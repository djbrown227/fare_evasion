{
 "cells": [
  {
   "cell_type": "code",
   "execution_count": null,
   "metadata": {},
   "outputs": [],
   "source": [
    "#Hello"
   ]
  },
  {
   "cell_type": "code",
   "execution_count": 3,
   "metadata": {},
   "outputs": [
    {
     "name": "stderr",
     "output_type": "stream",
     "text": [
      "2025-08-02 20:19:22,208 - INFO - 🚀 Starting random full-day sampling from MTA ridership dataset...\n",
      "2025-08-02 20:19:22,210 - INFO - 🎯 Randomly selected dates: ['2021-07-04', '2023-07-29', '2023-01-24', '2025-07-31', '2022-01-06']\n",
      "2025-08-02 20:19:22,466 - ERROR - ❌ Failed to fetch 2021-07-04: 403\n",
      "2025-08-02 20:19:22,971 - ERROR - ❌ Failed to fetch 2023-07-29: 403\n",
      "2025-08-02 20:19:23,449 - ERROR - ❌ Failed to fetch 2023-01-24: 403\n",
      "2025-08-02 20:19:23,945 - ERROR - ❌ Failed to fetch 2025-07-31: 403\n",
      "2025-08-02 20:19:24,445 - ERROR - ❌ Failed to fetch 2022-01-06: 403\n"
     ]
    }
   ],
   "source": [
    "import requests\n",
    "import random\n",
    "import logging\n",
    "from datetime import datetime, timedelta\n",
    "import time\n",
    "\n",
    "# 🔧 Config\n",
    "APP_TOKEN = \"602x7lnlwpv0v0nu80hvc4cxr\"  # Optional: Replace with your actual app token\n",
    "BASE_URL = \"https://data.ny.gov/resource/vxuj-8kew.json\"\n",
    "NUM_SAMPLES = 5  # Number of random dates to fetch\n",
    "START_DATE = datetime(2020, 3, 1)  # Dataset starts March 2020\n",
    "END_DATE = datetime.today()\n",
    "\n",
    "# 🪵 Logging setup\n",
    "logging.basicConfig(\n",
    "    level=logging.INFO,\n",
    "    format=\"%(asctime)s - %(levelname)s - %(message)s\"\n",
    ")\n",
    "\n",
    "def get_random_dates(n):\n",
    "    \"\"\"Randomly pick `n` full calendar dates between START_DATE and END_DATE.\"\"\"\n",
    "    total_days = (END_DATE - START_DATE).days\n",
    "    sampled_dates = random.sample(range(total_days), n)\n",
    "    return [(START_DATE + timedelta(days=d)).strftime(\"%Y-%m-%d\") for d in sampled_dates]\n",
    "\n",
    "def fetch_data_for_date(date_str):\n",
    "    \"\"\"Fetch ridership data for a specific date.\"\"\"\n",
    "    params = {\n",
    "        \"date\": f\"{date_str}T00:00:00.000\"\n",
    "    }\n",
    "    headers = {\"X-App-Token\": APP_TOKEN} if APP_TOKEN else {}\n",
    "\n",
    "    try:\n",
    "        response = requests.get(BASE_URL, headers=headers, params=params, timeout=10)\n",
    "        if response.status_code == 200:\n",
    "            data = response.json()\n",
    "            if data:\n",
    "                logging.info(f\"✅ {len(data):>2} records for {date_str}\")\n",
    "            else:\n",
    "                logging.warning(f\"⚠️ No data found for {date_str}\")\n",
    "            return data\n",
    "        else:\n",
    "            logging.error(f\"❌ Failed to fetch {date_str}: {response.status_code} - {response.text}\")\n",
    "            return []\n",
    "    except Exception as e:\n",
    "        logging.error(f\"❌ Error fetching {date_str}: {e}\")\n",
    "        return []\n",
    "\n",
    "def sample_and_fetch_random_days(n):\n",
    "    \"\"\"Randomly sample `n` dates and fetch ridership data for each.\"\"\"\n",
    "    logging.info(\"🚀 Starting random full-day sampling from MTA ridership dataset...\")\n",
    "    sampled_dates = get_random_dates(n)\n",
    "    logging.info(f\"🎯 Randomly selected dates: {sampled_dates}\")\n",
    "\n",
    "    all_results = {}\n",
    "    for date in sampled_dates:\n",
    "        all_results[date] = fetch_data_for_date(date)\n",
    "        time.sleep(0.3)  # Pause to avoid rate limits\n",
    "\n",
    "    return all_results  # Optionally save or analyze\n",
    "\n",
    "if __name__ == \"__main__\":\n",
    "    sample_and_fetch_random_days(NUM_SAMPLES)\n"
   ]
  },
  {
   "cell_type": "code",
   "execution_count": null,
   "metadata": {},
   "outputs": [],
   "source": []
  },
  {
   "cell_type": "code",
   "execution_count": null,
   "metadata": {},
   "outputs": [],
   "source": []
  },
  {
   "cell_type": "code",
   "execution_count": null,
   "metadata": {},
   "outputs": [],
   "source": []
  },
  {
   "cell_type": "code",
   "execution_count": null,
   "metadata": {},
   "outputs": [],
   "source": []
  }
 ],
 "metadata": {
  "kernelspec": {
   "display_name": "Python (fare_evasion)",
   "language": "python",
   "name": "fare_evasion"
  },
  "language_info": {
   "codemirror_mode": {
    "name": "ipython",
    "version": 3
   },
   "file_extension": ".py",
   "mimetype": "text/x-python",
   "name": "python",
   "nbconvert_exporter": "python",
   "pygments_lexer": "ipython3",
   "version": "3.9.18"
  }
 },
 "nbformat": 4,
 "nbformat_minor": 4
}
